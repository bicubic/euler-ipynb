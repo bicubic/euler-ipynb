{
 "metadata": {
  "name": "",
  "signature": "sha256:abfea37f08512ec7d0447a7e1b6b101959312f477e28a1cb8c2901a14bcf6900"
 },
 "nbformat": 3,
 "nbformat_minor": 0,
 "worksheets": [
  {
   "cells": [
    {
     "cell_type": "heading",
     "level": 2,
     "metadata": {},
     "source": [
      "Problem 5"
     ]
    },
    {
     "cell_type": "markdown",
     "metadata": {},
     "source": [
      "2520 is the smallest number that can be divided by each of the numbers from 1 to 10 without any remainder.\n",
      "\n",
      "What is the smallest positive number that is evenly divisible by all of the numbers from 1 to 20?\n",
      "\n",
      "---"
     ]
    },
    {
     "cell_type": "markdown",
     "metadata": {},
     "source": [
      "This is an interesting problem! \n",
      "\n",
      "First thing's first, we can establish that the largest positive number that meets the condition is $1\u00d72\u00d73..\u00d720$ or simply $20!$\n",
      "We can work our way down by repeatedly dividing this upper boundary number by any number in the range [1,20] and seeing if it's an even division. \n",
      "\n",
      "This approach results in a runtime complexity of O(log(n!)), better known as O(n log n)\n"
     ]
    },
    {
     "cell_type": "code",
     "collapsed": false,
     "input": [
      "factors = 20\n",
      "\n",
      "upper = math.factorial(factors)\n",
      "divisors = range(2, factors+1)\n",
      "current = upper\n",
      "\n",
      "#repeatedly attempt to divide current number by prime factors ordered \n",
      "#from largest to smallest as long as the result has a remainder of 0\n",
      "while True:\n",
      "    found = False\n",
      "    for p in reversed(divisors):\n",
      "        c = current / p\n",
      "        if c % p == 0:\n",
      "            found = True\n",
      "            current = c\n",
      "            break\n",
      "            \n",
      "    if not found:\n",
      "       break\n",
      "        \n",
      "    print 'divided by', p, 'got', current"
     ],
     "language": "python",
     "metadata": {},
     "outputs": [
      {
       "output_type": "stream",
       "stream": "stdout",
       "text": [
        "divided by 20 got 121645100408832000\n",
        "divided by 20 got 6082255020441600\n",
        "divided by 20 got 304112751022080\n",
        "divided by 18 got 16895152834560\n",
        "divided by 18 got 938619601920\n",
        "divided by 18 got 52145533440\n",
        "divided by 16 got 3259095840\n",
        "divided by 14 got 232792560\n",
        "divided by 12 got 19399380\n",
        "divided by 2 got 9699690\n"
       ]
      }
     ],
     "prompt_number": 16
    },
    {
     "cell_type": "heading",
     "level": 2,
     "metadata": {},
     "source": [
      "Problem 6"
     ]
    },
    {
     "cell_type": "markdown",
     "metadata": {},
     "source": [
      "The sum of the squares of the first ten natural numbers is, 1<sup>2</sup> + 2<sup>2</sup> + ... + 10<sup>2</sup> = 385\n",
      "\n",
      "The square of the sum of the first ten natural numbers is, (1 + 2 + ... + 10)<sup>2</sup> = 552 = 3025\n",
      "\n",
      "Hence the difference between the sum of the squares of the first ten natural numbers and the square of the sum is 3025 \u2212 385 = 2640.\n",
      "\n",
      "Find the difference between the sum of the squares of the first one hundred natural numbers and the square of the sum.\n",
      "\n",
      "---"
     ]
    },
    {
     "cell_type": "markdown",
     "metadata": {},
     "source": [
      "**Method 1: brute force**\n",
      "\n",
      "Complexity: O(N)"
     ]
    },
    {
     "cell_type": "code",
     "collapsed": false,
     "input": [
      "def squareDiff(x):\n",
      "    s = range(1, x+1)\n",
      "    sumSquares = sum([x*x for x in s])\n",
      "    squareSum = math.pow(sum(s),2)\n",
      "    diff = squareSum - sumSquares\n",
      "    return diff\n",
      "\n",
      "squareDiff(100)"
     ],
     "language": "python",
     "metadata": {},
     "outputs": [
      {
       "metadata": {},
       "output_type": "pyout",
       "prompt_number": 10,
       "text": [
        "25164150.0"
       ]
      }
     ],
     "prompt_number": 10
    },
    {
     "cell_type": "markdown",
     "metadata": {},
     "source": [
      "Easy enough, however it's well known that the sum of a series of natural numbers up to n can be calculated as  $\\frac{n(n+1)}{2}$\n",
      "\n",
      "Is it possible that the sum of a series of natural numbers squared up to n can be calculated in constant time as well? I didn't know the answer and cheated by using a genetic algorithm to attempt to fit an equation to match *sumSquares* for the first 140 inputs. \n",
      "\n",
      "Amazingly, it came back with a polynomial that had 0 residual error: $\\frac{1}{6}n + \\frac{1}{2}n^2 + \\frac{1}{3}n^3$\n",
      "\n",
      "Let's plot this polynomial to double check"
     ]
    },
    {
     "cell_type": "code",
     "collapsed": false,
     "input": [
      "brute = lambda n: sum([x*x for x in xrange(1,n+1)])\n",
      "poly = lambda n: round(1./6 * n + 1./2 * pow(n, 2) + 1./3 * pow(n, 3))\n",
      "\n",
      "x = np.array(range(1,2200))\n",
      "brute_y = np.array([brute(t) for t in x])\n",
      "poly_y = np.array([poly(t) for t in x])\n",
      "\n",
      "plt.plot(x, brute_y, label='Brute Force', color='blue')\n",
      "plt.plot(x, poly_y, label='Polynomial', color='red')\n",
      "plt.legend()\n",
      "\n",
      "print 'max error:', max(brute_y - poly_y)"
     ],
     "language": "python",
     "metadata": {},
     "outputs": [
      {
       "output_type": "stream",
       "stream": "stdout",
       "text": [
        "max error: 1431655765.0\n"
       ]
      },
      {
       "metadata": {},
       "output_type": "display_data",
       "png": "[encoded data removed]",
       "text": [
        "<matplotlib.figure.Figure at 0x9fc15c0>"
       ]
      }
     ],
     "prompt_number": 11
    },
    {
     "cell_type": "markdown",
     "metadata": {},
     "source": [
      "Looks like the polynomial solution suffers from integer overflow at around n$\\approx$1300; earlier than the brute force solution. This is understandable considering the polynomial solution deals with n<sup>3</sup> while brute force only deals with n<sup>2</sup>. We'll switch to floats to overcome overflow issues in both cases."
     ]
    },
    {
     "cell_type": "code",
     "collapsed": false,
     "input": [
      "brute = lambda n: sum([1.*x*x for x in xrange(1,n+1)])\n",
      "poly = lambda n: round(1./6 * n + 1./2 * pow(n, 2.) + 1./3 * pow(n, 3.))\n",
      "\n",
      "x = np.array(range(1,2200))\n",
      "brute_y = np.array([brute(t) for t in x])\n",
      "poly_y = np.array([poly(t) for t in x])\n",
      "\n",
      "plt.plot(x, brute_y, label='Brute Force', color='blue')\n",
      "plt.plot(x, poly_y, label='Polynomial', color='red')\n",
      "plt.legend()\n",
      "\n",
      "print 'max error:', max(brute_y - poly_y)"
     ],
     "language": "python",
     "metadata": {},
     "outputs": [
      {
       "output_type": "stream",
       "stream": "stdout",
       "text": [
        "max error: 0.0\n"
       ]
      },
      {
       "metadata": {},
       "output_type": "display_data",
       "png": "[encoded data removed]",
       "text": [
        "<matplotlib.figure.Figure at 0x9b5fb70>"
       ]
      }
     ],
     "prompt_number": 12
    },
    {
     "cell_type": "markdown",
     "metadata": {},
     "source": [
      "A maximum error of 0 across a small input set is promising, however I got in touch with a friend to check, and he promtly came back with a proof!\n",
      "\n",
      "---\n",
      "\n",
      "All credit to **Jonah Schreiber** for the below proof:\n",
      "\n",
      "$$\\sum_{x=1}^{n}{x^2}=\\frac{n^3}{3}+\\frac{n^2}{2}+\\frac{n}{6}$$\n",
      "\n",
      "\n",
      "\n",
      "**Base**\n",
      "\n",
      "Here, we show that the formula is correct for $n=1$. On the left-hand side, we have $1$, and on the right-hand side, we have $\\frac{1^3}{3}+\\frac{1^2}{2}+\\frac{1}{6}=1$, so the base case is true.\n",
      "\n",
      "\n",
      "**Assumption**\n",
      "\n",
      "Assume that \n",
      "\n",
      "$$\\sum_{x=1}^{n}{x^2}=\\frac{n^3}{3}+\\frac{n^2}{2}+\\frac{n}{6}$$\n",
      "\n",
      "is true.\n",
      "\n",
      "**Induction**\n",
      "\n",
      "\n",
      "Show then that it is true for $n+1$, that is,\n",
      "\n",
      "$$\\sum_{x=1}^{n+1}{x^2}=\\frac{(n+1)^3}{3}+\\frac{(n+1)^2}{2}+\\frac{n+1}{6}$$\n",
      "\n",
      "Let us break out the last term on the left-hand side, and expand the right-hand side:\n",
      "\n",
      "$$\\sum_{x=1}^{n}{x^2}+(n+1)^2=\\frac{n^3+3n^2+3n+1}{3}+\\frac{n^2+2n+1}{2}+\\frac{n+1}{6}$$\n",
      "\n",
      "We already know the sum on the left-hand side, which we insert.\n",
      "\n",
      "$$\\frac{n^3}{3}+\\frac{n^2}{2}+\\frac{n}{6}+n^2+2n+1=\\frac{n^3+3n^2+3n+1}{3}+\\frac{n^2+2n+1}{2}+\\frac{n+1}{6}$$\n",
      "\n",
      "Collecting terms, we get\n",
      "\n",
      "$$\\frac{n^3}{3}+\\frac{3n^2}{2}+\\frac{13n}{6}+1=\\frac{n^3}{3}+\\frac{3n^2}{2}+\\frac{13n}{6}+1$$ \n",
      "\n",
      "The two sides are equal, so the formula is correct. \n",
      "\n",
      "\n",
      "Thanks again to Jonah Schreiber for the above proof.\n",
      "\n",
      "---\n",
      "\n",
      "\n",
      "See http://www.trans4mind.com/personal_development/mathematics/series/sumNaturalSquares.htm for several derivations of this formula.\n",
      "\n",
      "\n",
      "---\n",
      "\n",
      "And so, finally, \n",
      "\n",
      "**Method 2: Arithmetic **\n",
      "\n",
      "Complexity: O(1)"
     ]
    },
    {
     "cell_type": "code",
     "collapsed": false,
     "input": [
      "def squareDiff2(x):\n",
      "    sumSquares = round(1./6 * x + 1./2 * pow(x, 2.) + 1./3 * pow(x, 3.))\n",
      "    squareSum = pow(x*(x+1)/2., 2)\n",
      "    return squareSum - sumSquares\n",
      "\n",
      "squareDiff2(100)"
     ],
     "language": "python",
     "metadata": {},
     "outputs": [
      {
       "metadata": {},
       "output_type": "pyout",
       "prompt_number": 13,
       "text": [
        "25164150.0"
       ]
      }
     ],
     "prompt_number": 13
    }
   ],
   "metadata": {}
  }
 ]
}